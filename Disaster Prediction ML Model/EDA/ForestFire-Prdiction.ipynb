{
 "cells": [
  {
   "cell_type": "code",
   "execution_count": 2,
   "metadata": {},
   "outputs": [
    {
     "name": "stdout",
     "output_type": "stream",
     "text": [
      "<class 'pandas.core.frame.DataFrame'>\n",
      "RangeIndex: 37 entries, 0 to 36\n",
      "Data columns (total 7 columns):\n",
      " #   Column             Non-Null Count  Dtype \n",
      "---  ------             --------------  ----- \n",
      " 0   State_UT           37 non-null     object\n",
      " 1   Jan_2018_Jun_2018  37 non-null     int64 \n",
      " 2   Nov_2018_Jun_2019  37 non-null     int64 \n",
      " 3   Nov_2019_Jun_2020  37 non-null     int64 \n",
      " 4   Nov_2020_Jun_2021  37 non-null     int64 \n",
      " 5   Nov_2021_Jun_2022  37 non-null     int64 \n",
      " 6   Nov_2022_Jun_2023  37 non-null     int64 \n",
      "dtypes: int64(6), object(1)\n",
      "memory usage: 2.1+ KB\n",
      "None\n",
      "                      State_UT  Jan_2018_Jun_2018  Nov_2018_Jun_2019   \n",
      "0  Andaman and Nicobar Islands                  3                  6  \\\n",
      "1               Andhra Pradesh               1785               1748   \n",
      "2            Arunachal Pradesh                491                926   \n",
      "3                        Assam               1660               1940   \n",
      "4                        Bihar                223                203   \n",
      "\n",
      "   Nov_2019_Jun_2020  Nov_2020_Jun_2021  Nov_2021_Jun_2022  Nov_2022_Jun_2023  \n",
      "0                 15                  2                  3                 10  \n",
      "1               1080               2888               1716               2526  \n",
      "2                660               1109               1116                659  \n",
      "3               3000               3387               2305               2741  \n",
      "4                 50                537                222                390  \n"
     ]
    }
   ],
   "source": [
    "import pandas as pd\n",
    "\n",
    "# Load the dataset\n",
    "data_path = \"../Dataset/ForestFire-Data.csv\"  # Update path if needed\n",
    "forest_fire_data = pd.read_csv(data_path)\n",
    "\n",
    "# Rename columns for better clarity\n",
    "forest_fire_data.columns = [\n",
    "    \"Serial_No\", \"State_UT\", \"Jan_2018_Jun_2018\", \"Nov_2018_Jun_2019\", \n",
    "    \"Nov_2019_Jun_2020\", \"Nov_2020_Jun_2021\", \"Nov_2021_Jun_2022\", \n",
    "    \"Nov_2022_Jun_2023\"\n",
    "]\n",
    "\n",
    "# Drop redundant columns (e.g., Serial_No)\n",
    "forest_fire_data = forest_fire_data.drop(columns=[\"Serial_No\"])\n",
    "\n",
    "# Display data info\n",
    "print(forest_fire_data.info())\n",
    "print(forest_fire_data.head())\n"
   ]
  },
  {
   "cell_type": "code",
   "execution_count": 3,
   "metadata": {},
   "outputs": [
    {
     "name": "stdout",
     "output_type": "stream",
     "text": [
      "Average_Incidents\n",
      "0    19\n",
      "1    18\n",
      "Name: count, dtype: int64\n"
     ]
    }
   ],
   "source": [
    "# Define features: Fire incident counts\n",
    "X = forest_fire_data.drop(columns=[\"State_UT\"])\n",
    "\n",
    "# Create a synthetic target: High or Low fire incidents\n",
    "forest_fire_data[\"Average_Incidents\"] = X.mean(axis=1)\n",
    "median_incidents = forest_fire_data[\"Average_Incidents\"].median()\n",
    "y = (forest_fire_data[\"Average_Incidents\"] > median_incidents).astype(int)\n",
    "\n",
    "# Display target value counts\n",
    "print(y.value_counts())\n"
   ]
  },
  {
   "cell_type": "code",
   "execution_count": 4,
   "metadata": {},
   "outputs": [
    {
     "name": "stdout",
     "output_type": "stream",
     "text": [
      "X_train shape: (29, 6)\n",
      "X_test shape: (8, 6)\n",
      "y_train shape: (29,)\n",
      "y_test shape: (8,)\n"
     ]
    }
   ],
   "source": [
    "from sklearn.model_selection import train_test_split\n",
    "\n",
    "# Split data into training and testing sets\n",
    "X_train, X_test, y_train, y_test = train_test_split(X, y, test_size=0.2, random_state=42)\n",
    "\n",
    "# Check split data shapes\n",
    "print(\"X_train shape:\", X_train.shape)\n",
    "print(\"X_test shape:\", X_test.shape)\n",
    "print(\"y_train shape:\", y_train.shape)\n",
    "print(\"y_test shape:\", y_test.shape)\n"
   ]
  },
  {
   "cell_type": "code",
   "execution_count": 5,
   "metadata": {},
   "outputs": [
    {
     "name": "stdout",
     "output_type": "stream",
     "text": [
      "Scaled X_train:\n",
      " [[-0.19997046 -0.15551129 -0.05558176 -0.16468265 -0.10486115 -0.15646804]\n",
      " [-0.1800447  -0.12325108 -0.23054406 -0.2481881  -0.20021354  0.00519897]\n",
      " [-0.34005    -0.35492095 -0.36312113 -0.3462071  -0.35007978 -0.34046474]\n",
      " [-0.24027142 -0.28643873 -0.33823212 -0.18182546 -0.23206012 -0.20595064]\n",
      " [-0.33360784 -0.3503932  -0.35351052 -0.34357783 -0.34314847 -0.33439106]]\n"
     ]
    }
   ],
   "source": [
    "from sklearn.preprocessing import StandardScaler\n",
    "\n",
    "# Scale the features for uniformity\n",
    "scaler = StandardScaler()\n",
    "X_train_scaled = scaler.fit_transform(X_train)\n",
    "X_test_scaled = scaler.transform(X_test)\n",
    "\n",
    "# Verify scaling\n",
    "print(\"Scaled X_train:\\n\", X_train_scaled[:5])\n"
   ]
  },
  {
   "cell_type": "code",
   "execution_count": 14,
   "metadata": {},
   "outputs": [
    {
     "name": "stdout",
     "output_type": "stream",
     "text": [
      "Linear Regression - MSE: 0.4172400185060543, R2 Score: -1.2252800986989563\n"
     ]
    }
   ],
   "source": [
    "from sklearn.linear_model import LinearRegression\n",
    "from sklearn.metrics import mean_squared_error, r2_score\n",
    "\n",
    "# Train Linear Regression model\n",
    "lr_model = LinearRegression()\n",
    "lr_model.fit(X_train_scaled, y_train)\n",
    "\n",
    "# Predict on test set\n",
    "y_pred_lr = lr_model.predict(X_test_scaled)\n",
    "\n",
    "# Evaluate Linear Regression model\n",
    "mse_lr = mean_squared_error(y_test, y_pred_lr)\n",
    "r2_lr = r2_score(y_test, y_pred_lr)\n",
    "print(f\"Linear Regression - MSE: {mse_lr}, R2 Score: {r2_lr}\")\n"
   ]
  },
  {
   "cell_type": "code",
   "execution_count": 15,
   "metadata": {},
   "outputs": [
    {
     "name": "stdout",
     "output_type": "stream",
     "text": [
      "SVM - MSE: 0.03175650962711443, R2 Score: 0.8306319486553897\n"
     ]
    }
   ],
   "source": [
    "from sklearn.svm import SVR\n",
    "\n",
    "# Train Support Vector Machine model\n",
    "svm_model = SVR()\n",
    "svm_model.fit(X_train_scaled, y_train)\n",
    "\n",
    "# Predict on test set\n",
    "y_pred_svm = svm_model.predict(X_test_scaled)\n",
    "\n",
    "# Evaluate SVM model\n",
    "mse_svm = mean_squared_error(y_test, y_pred_svm)\n",
    "r2_svm = r2_score(y_test, y_pred_svm)\n",
    "print(f\"SVM - MSE: {mse_svm}, R2 Score: {r2_svm}\")\n"
   ]
  },
  {
   "cell_type": "code",
   "execution_count": 16,
   "metadata": {},
   "outputs": [
    {
     "name": "stdout",
     "output_type": "stream",
     "text": [
      "Random Forest - MSE: 0.0183375, R2 Score: 0.9022\n"
     ]
    }
   ],
   "source": [
    "from sklearn.ensemble import RandomForestRegressor\n",
    "\n",
    "# Train Random Forest model\n",
    "rf_model = RandomForestRegressor(random_state=42)\n",
    "rf_model.fit(X_train_scaled, y_train)\n",
    "\n",
    "# Predict on test set\n",
    "y_pred_rf = rf_model.predict(X_test_scaled)\n",
    "\n",
    "# Evaluate Random Forest model\n",
    "mse_rf = mean_squared_error(y_test, y_pred_rf)\n",
    "r2_rf = r2_score(y_test, y_pred_rf)\n",
    "print(f\"Random Forest - MSE: {mse_rf}, R2 Score: {r2_rf}\")\n"
   ]
  },
  {
   "cell_type": "code",
   "execution_count": 17,
   "metadata": {},
   "outputs": [
    {
     "data": {
      "image/png": "[encoded data removed]",
      "text/plain": [
       "<Figure size 1000x500 with 1 Axes>"
      ]
     },
     "metadata": {},
     "output_type": "display_data"
    },
    {
     "data": {
      "image/png": "[encoded data removed]",
      "text/plain": [
       "<Figure size 1000x500 with 1 Axes>"
      ]
     },
     "metadata": {},
     "output_type": "display_data"
    }
   ],
   "source": [
    "import matplotlib.pyplot as plt\n",
    "\n",
    "# Data for visualization\n",
    "models = ['Linear Regression', 'SVM', 'Random Forest']\n",
    "mse_values = [mse_lr, mse_svm, mse_rf]\n",
    "r2_values = [r2_lr, r2_svm, r2_rf]\n",
    "\n",
    "# Plot MSE values\n",
    "plt.figure(figsize=(10, 5))\n",
    "plt.bar(models, mse_values, color=['blue', 'green', 'orange'])\n",
    "plt.title('Model Comparison (MSE)')\n",
    "plt.ylabel('Mean Squared Error')\n",
    "plt.xlabel('Models')\n",
    "plt.show()\n",
    "\n",
    "# Plot R2 Score values\n",
    "plt.figure(figsize=(10, 5))\n",
    "plt.bar(models, r2_values, color=['blue', 'green', 'orange'])\n",
    "plt.title('Model Comparison (R2 Score)')\n",
    "plt.ylabel('R2 Score')\n",
    "plt.xlabel('Models')\n",
    "plt.show()\n"
   ]
  },
  {
   "cell_type": "code",
   "execution_count": 18,
   "metadata": {},
   "outputs": [
    {
     "name": "stdout",
     "output_type": "stream",
     "text": [
      "As Random Forest Has Lower MSE and Highest R2 Value Thus RF is the Best Suited Model for this Dataset\n"
     ]
    }
   ],
   "source": [
    "print(\"As Random Forest Has Lower MSE and Highest R2 Value Thus RF is the Best Suited Model for this Dataset\")"
   ]
  }
 ],
 "metadata": {
  "kernelspec": {
   "display_name": "Python 3",
   "language": "python",
   "name": "python3"
  },
  "language_info": {
   "codemirror_mode": {
    "name": "ipython",
    "version": 3
   },
   "file_extension": ".py",
   "mimetype": "text/x-python",
   "name": "python",
   "nbconvert_exporter": "python",
   "pygments_lexer": "ipython3",
   "version": "3.11.1"
  }
 },
 "nbformat": 4,
 "nbformat_minor": 2
}
